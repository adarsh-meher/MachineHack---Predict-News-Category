{
  "nbformat": 4,
  "nbformat_minor": 0,
  "metadata": {
    "colab": {
      "name": "MH-Predict News category.ipynb",
      "provenance": [],
      "collapsed_sections": [],
      "include_colab_link": true
    },
    "kernelspec": {
      "name": "python3",
      "display_name": "Python 3"
    },
    "accelerator": "GPU"
  },
  "cells": [
    {
      "cell_type": "markdown",
      "metadata": {
        "id": "view-in-github",
        "colab_type": "text"
      },
      "source": [
        "<a href=\"https://colab.research.google.com/github/adarsh-meher/MachineHack---Predict-News-Category/blob/master/MH_Predict_News_category.ipynb\" target=\"_parent\"><img src=\"https://colab.research.google.com/assets/colab-badge.svg\" alt=\"Open In Colab\"/></a>"
      ]
    },
    {
      "cell_type": "code",
      "metadata": {
        "id": "YhluJ1iGF_ao",
        "colab_type": "code",
        "outputId": "475a2f17-c0a5-45fe-e8e4-fea5b6c4b4cb",
        "colab": {
          "base_uri": "https://localhost:8080/",
          "height": 276
        }
      },
      "source": [
        "!pip install fasttext"
      ],
      "execution_count": 1,
      "outputs": [
        {
          "output_type": "stream",
          "text": [
            "Collecting fasttext\n",
            "\u001b[?25l  Downloading https://files.pythonhosted.org/packages/10/61/2e01f1397ec533756c1d893c22d9d5ed3fce3a6e4af1976e0d86bb13ea97/fasttext-0.9.1.tar.gz (57kB)\n",
            "\r\u001b[K     |█████▊                          | 10kB 28.4MB/s eta 0:00:01\r\u001b[K     |███████████▍                    | 20kB 34.5MB/s eta 0:00:01\r\u001b[K     |█████████████████               | 30kB 39.3MB/s eta 0:00:01\r\u001b[K     |██████████████████████▊         | 40kB 24.2MB/s eta 0:00:01\r\u001b[K     |████████████████████████████▍   | 51kB 22.5MB/s eta 0:00:01\r\u001b[K     |████████████████████████████████| 61kB 8.6MB/s \n",
            "\u001b[?25hRequirement already satisfied: pybind11>=2.2 in /usr/local/lib/python3.6/dist-packages (from fasttext) (2.4.3)\n",
            "Requirement already satisfied: setuptools>=0.7.0 in /usr/local/lib/python3.6/dist-packages (from fasttext) (46.0.0)\n",
            "Requirement already satisfied: numpy in /usr/local/lib/python3.6/dist-packages (from fasttext) (1.18.2)\n",
            "Building wheels for collected packages: fasttext\n",
            "  Building wheel for fasttext (setup.py) ... \u001b[?25l\u001b[?25hdone\n",
            "  Created wheel for fasttext: filename=fasttext-0.9.1-cp36-cp36m-linux_x86_64.whl size=2385514 sha256=41676bc0603807190afcafa105d251e36402af037fe15559b1ef7b4892899c12\n",
            "  Stored in directory: /root/.cache/pip/wheels/9f/f0/04/caa82c912aee89ce76358ff954f3f0729b7577c8ff23a292e3\n",
            "Successfully built fasttext\n",
            "Installing collected packages: fasttext\n",
            "Successfully installed fasttext-0.9.1\n"
          ],
          "name": "stdout"
        }
      ]
    },
    {
      "cell_type": "code",
      "metadata": {
        "id": "xTNxdY3NEh3m",
        "colab_type": "code",
        "outputId": "11bbd54b-b738-4e22-9567-65440b8c8171",
        "colab": {
          "base_uri": "https://localhost:8080/",
          "height": 127
        }
      },
      "source": [
        "!git clone https://github.com/adarsh-meher/MachineHack---Predict-News-Category.git\n",
        "import os\n",
        "os.chdir('/content/MachineHack---Predict-News-Category/')"
      ],
      "execution_count": 2,
      "outputs": [
        {
          "output_type": "stream",
          "text": [
            "Cloning into 'MachineHack---Predict-News-Category'...\n",
            "remote: Enumerating objects: 12, done.\u001b[K\n",
            "remote: Counting objects:   8% (1/12)\u001b[K\rremote: Counting objects:  16% (2/12)\u001b[K\rremote: Counting objects:  25% (3/12)\u001b[K\rremote: Counting objects:  33% (4/12)\u001b[K\rremote: Counting objects:  41% (5/12)\u001b[K\rremote: Counting objects:  50% (6/12)\u001b[K\rremote: Counting objects:  58% (7/12)\u001b[K\rremote: Counting objects:  66% (8/12)\u001b[K\rremote: Counting objects:  75% (9/12)\u001b[K\rremote: Counting objects:  83% (10/12)\u001b[K\rremote: Counting objects:  91% (11/12)\u001b[K\rremote: Counting objects: 100% (12/12)\u001b[K\rremote: Counting objects: 100% (12/12), done.\u001b[K\n",
            "remote: Compressing objects:   9% (1/11)\u001b[K\rremote: Compressing objects:  18% (2/11)\u001b[K\rremote: Compressing objects:  27% (3/11)\u001b[K\rremote: Compressing objects:  36% (4/11)\u001b[K\rremote: Compressing objects:  45% (5/11)\u001b[K\rremote: Compressing objects:  54% (6/11)\u001b[K\rremote: Compressing objects:  63% (7/11)\u001b[K\rremote: Compressing objects:  72% (8/11)\u001b[K\rremote: Compressing objects:  81% (9/11)\u001b[K\rremote: Compressing objects:  90% (10/11)\u001b[K\rremote: Compressing objects: 100% (11/11)\u001b[K\rremote: Compressing objects: 100% (11/11), done.\u001b[K\n",
            "Unpacking objects:   8% (1/12)   \rUnpacking objects:  16% (2/12)   \rUnpacking objects:  25% (3/12)   \rUnpacking objects:  33% (4/12)   \rUnpacking objects:  41% (5/12)   \rremote: Total 12 (delta 1), reused 0 (delta 0), pack-reused 0\u001b[K\n",
            "Unpacking objects:  50% (6/12)   \rUnpacking objects:  58% (7/12)   \rUnpacking objects:  66% (8/12)   \rUnpacking objects:  75% (9/12)   \rUnpacking objects:  83% (10/12)   \rUnpacking objects:  91% (11/12)   \rUnpacking objects: 100% (12/12)   \rUnpacking objects: 100% (12/12), done.\n"
          ],
          "name": "stdout"
        }
      ]
    },
    {
      "cell_type": "code",
      "metadata": {
        "id": "nMCECbfwEl9W",
        "colab_type": "code",
        "colab": {}
      },
      "source": [
        "import torch\n",
        "import pandas as pd\n",
        "import numpy as np\n",
        "import scipy as sc\n",
        "import seaborn as sb\n",
        "import matplotlib.pyplot as plt\n",
        "import time\n",
        "import nltk\n",
        "import gensim as G\n",
        "import spacy as S\n",
        "import fasttext as ft"
      ],
      "execution_count": 0,
      "outputs": []
    },
    {
      "cell_type": "code",
      "metadata": {
        "id": "wxlU3BkILiKg",
        "colab_type": "code",
        "colab": {}
      },
      "source": [
        "from sklearn.model_selection import train_test_split"
      ],
      "execution_count": 0,
      "outputs": []
    },
    {
      "cell_type": "code",
      "metadata": {
        "id": "o6YKflyuFMlQ",
        "colab_type": "code",
        "colab": {}
      },
      "source": [
        "news_data = pd.ExcelFile('Data_Train.xlsx').parse('Sheet1')"
      ],
      "execution_count": 0,
      "outputs": []
    },
    {
      "cell_type": "code",
      "metadata": {
        "id": "QnKFlRRnHpd0",
        "colab_type": "code",
        "outputId": "d760f780-5673-459f-8cc9-0cb338dc81a8",
        "colab": {
          "base_uri": "https://localhost:8080/",
          "height": 206
        }
      },
      "source": [
        "news_data.head()"
      ],
      "execution_count": 6,
      "outputs": [
        {
          "output_type": "execute_result",
          "data": {
            "text/html": [
              "<div>\n",
              "<style scoped>\n",
              "    .dataframe tbody tr th:only-of-type {\n",
              "        vertical-align: middle;\n",
              "    }\n",
              "\n",
              "    .dataframe tbody tr th {\n",
              "        vertical-align: top;\n",
              "    }\n",
              "\n",
              "    .dataframe thead th {\n",
              "        text-align: right;\n",
              "    }\n",
              "</style>\n",
              "<table border=\"1\" class=\"dataframe\">\n",
              "  <thead>\n",
              "    <tr style=\"text-align: right;\">\n",
              "      <th></th>\n",
              "      <th>STORY</th>\n",
              "      <th>SECTION</th>\n",
              "    </tr>\n",
              "  </thead>\n",
              "  <tbody>\n",
              "    <tr>\n",
              "      <th>0</th>\n",
              "      <td>But the most painful was the huge reversal in ...</td>\n",
              "      <td>3</td>\n",
              "    </tr>\n",
              "    <tr>\n",
              "      <th>1</th>\n",
              "      <td>How formidable is the opposition alliance amon...</td>\n",
              "      <td>0</td>\n",
              "    </tr>\n",
              "    <tr>\n",
              "      <th>2</th>\n",
              "      <td>Most Asian currencies were trading lower today...</td>\n",
              "      <td>3</td>\n",
              "    </tr>\n",
              "    <tr>\n",
              "      <th>3</th>\n",
              "      <td>If you want to answer any question, click on ‘...</td>\n",
              "      <td>1</td>\n",
              "    </tr>\n",
              "    <tr>\n",
              "      <th>4</th>\n",
              "      <td>In global markets, gold prices edged up today ...</td>\n",
              "      <td>3</td>\n",
              "    </tr>\n",
              "  </tbody>\n",
              "</table>\n",
              "</div>"
            ],
            "text/plain": [
              "                                               STORY  SECTION\n",
              "0  But the most painful was the huge reversal in ...        3\n",
              "1  How formidable is the opposition alliance amon...        0\n",
              "2  Most Asian currencies were trading lower today...        3\n",
              "3  If you want to answer any question, click on ‘...        1\n",
              "4  In global markets, gold prices edged up today ...        3"
            ]
          },
          "metadata": {
            "tags": []
          },
          "execution_count": 6
        }
      ]
    },
    {
      "cell_type": "code",
      "metadata": {
        "id": "hhzU_blAHrEM",
        "colab_type": "code",
        "outputId": "2dff5b93-bccc-4618-ae64-d43c9b393d68",
        "colab": {
          "base_uri": "https://localhost:8080/",
          "height": 109
        }
      },
      "source": [
        "#### Counts of news category\n",
        "print(news_data['SECTION'].value_counts()/news_data.shape[0])\n",
        "\n",
        "'''\n",
        "Politics: 0\n",
        "Technology: 1\n",
        "Entertainment: 2\n",
        "Business: 3\n",
        "'''\n",
        "\n",
        "### no imbalance in categories\n",
        "\n",
        "target_to_name_map = {0:'Politics',1:\"Technology\",2:\"Entertainment\",3:\"Business\"}"
      ],
      "execution_count": 7,
      "outputs": [
        {
          "output_type": "stream",
          "text": [
            "1    0.363398\n",
            "2    0.252229\n",
            "0    0.221028\n",
            "3    0.163346\n",
            "Name: SECTION, dtype: float64\n"
          ],
          "name": "stdout"
        }
      ]
    },
    {
      "cell_type": "code",
      "metadata": {
        "id": "Lj2Ze45TH2M8",
        "colab_type": "code",
        "colab": {}
      },
      "source": [
        "#### Creating a test set assuming similar proportion of categories in target\n",
        "news_train,news_test,target_train,target_test = train_test_split(news_data.drop(['SECTION'],axis = 1),news_data['SECTION'],test_size = 0.2,stratify = news_data['SECTION'])\n",
        "news_train.index,target_train.index = range(news_train.shape[0]),range(news_train.shape[0])\n",
        "news_test.index,target_test.index = range(news_test.shape[0]),range(news_test.shape[0])"
      ],
      "execution_count": 0,
      "outputs": []
    },
    {
      "cell_type": "code",
      "metadata": {
        "id": "fKvA-6KcL5Wh",
        "colab_type": "code",
        "colab": {}
      },
      "source": [
        ""
      ],
      "execution_count": 0,
      "outputs": []
    },
    {
      "cell_type": "markdown",
      "metadata": {
        "id": "Ky6gPFeaMvVB",
        "colab_type": "text"
      },
      "source": [
        "## ***Analyzing news_train texts***"
      ]
    },
    {
      "cell_type": "code",
      "metadata": {
        "id": "8--4-z-yL66Z",
        "colab_type": "code",
        "colab": {}
      },
      "source": [
        "df = pd.concat([news_train.rename(columns = {'STORY' : 'text'}),pd.Series(target_train,name = 'target')],axis = 1)"
      ],
      "execution_count": 0,
      "outputs": []
    },
    {
      "cell_type": "code",
      "metadata": {
        "id": "MnL7BS-jM9kP",
        "colab_type": "code",
        "outputId": "ae261ef5-ab10-4ae3-85ab-4aa83a20bb4e",
        "colab": {
          "base_uri": "https://localhost:8080/",
          "height": 206
        }
      },
      "source": [
        "df.head()"
      ],
      "execution_count": 10,
      "outputs": [
        {
          "output_type": "execute_result",
          "data": {
            "text/html": [
              "<div>\n",
              "<style scoped>\n",
              "    .dataframe tbody tr th:only-of-type {\n",
              "        vertical-align: middle;\n",
              "    }\n",
              "\n",
              "    .dataframe tbody tr th {\n",
              "        vertical-align: top;\n",
              "    }\n",
              "\n",
              "    .dataframe thead th {\n",
              "        text-align: right;\n",
              "    }\n",
              "</style>\n",
              "<table border=\"1\" class=\"dataframe\">\n",
              "  <thead>\n",
              "    <tr style=\"text-align: right;\">\n",
              "      <th></th>\n",
              "      <th>text</th>\n",
              "      <th>target</th>\n",
              "    </tr>\n",
              "  </thead>\n",
              "  <tbody>\n",
              "    <tr>\n",
              "      <th>0</th>\n",
              "      <td>The 5G enabled Mi Mix 3 will start rolling out...</td>\n",
              "      <td>1</td>\n",
              "    </tr>\n",
              "    <tr>\n",
              "      <th>1</th>\n",
              "      <td>He added that people believe in promises made ...</td>\n",
              "      <td>0</td>\n",
              "    </tr>\n",
              "    <tr>\n",
              "      <th>2</th>\n",
              "      <td>The not-so-great-things about Ant-ManCould hav...</td>\n",
              "      <td>2</td>\n",
              "    </tr>\n",
              "    <tr>\n",
              "      <th>3</th>\n",
              "      <td>Tthe Redmi Note 7 is powered by Snapdragon 660...</td>\n",
              "      <td>1</td>\n",
              "    </tr>\n",
              "    <tr>\n",
              "      <th>4</th>\n",
              "      <td>Researchers at the Dartmouth College have turn...</td>\n",
              "      <td>1</td>\n",
              "    </tr>\n",
              "  </tbody>\n",
              "</table>\n",
              "</div>"
            ],
            "text/plain": [
              "                                                text  target\n",
              "0  The 5G enabled Mi Mix 3 will start rolling out...       1\n",
              "1  He added that people believe in promises made ...       0\n",
              "2  The not-so-great-things about Ant-ManCould hav...       2\n",
              "3  Tthe Redmi Note 7 is powered by Snapdragon 660...       1\n",
              "4  Researchers at the Dartmouth College have turn...       1"
            ]
          },
          "metadata": {
            "tags": []
          },
          "execution_count": 10
        }
      ]
    },
    {
      "cell_type": "code",
      "metadata": {
        "id": "DL1Rs3GyNF52",
        "colab_type": "code",
        "colab": {
          "base_uri": "https://localhost:8080/",
          "height": 90
        },
        "outputId": "245ef5c5-9834-4301-e79e-7efd1ed6c3a9"
      },
      "source": [
        "from nltk.tokenize import sent_tokenize,word_tokenize\n",
        "from nltk.probability import FreqDist\n",
        "from nltk.corpus import stopwords\n",
        "from nltk.stem import PorterStemmer,LancasterStemmer\n",
        "from nltk.stem.wordnet import WordNetLemmatizer\n",
        "\n",
        "nltk.download(\"stopwords\")\n",
        "nltk.download(\"punkt\")\n",
        "stop_words = set(stopwords.words(\"english\"))\n",
        "ps = PorterStemmer()\n",
        "ls = LancasterStemmer()\n",
        "wns = WordNetLemmatizer()"
      ],
      "execution_count": 11,
      "outputs": [
        {
          "output_type": "stream",
          "text": [
            "[nltk_data] Downloading package stopwords to /root/nltk_data...\n",
            "[nltk_data]   Unzipping corpora/stopwords.zip.\n",
            "[nltk_data] Downloading package punkt to /root/nltk_data...\n",
            "[nltk_data]   Unzipping tokenizers/punkt.zip.\n"
          ],
          "name": "stdout"
        }
      ]
    },
    {
      "cell_type": "code",
      "metadata": {
        "id": "al8O1pT_-MtF",
        "colab_type": "code",
        "colab": {}
      },
      "source": [
        "##### Freq Dist of all words for all categories except stopwords\n",
        "tokens = [ y for x in df['text'].values for y in word_tokenize(x) if y.lower() not in stop_words and y.isalpha()]\n",
        "tokens_fdist = FreqDist(tokens)"
      ],
      "execution_count": 0,
      "outputs": []
    },
    {
      "cell_type": "code",
      "metadata": {
        "id": "_ipEX10oqju3",
        "colab_type": "code",
        "colab": {
          "base_uri": "https://localhost:8080/",
          "height": 90
        },
        "outputId": "778fd663-62c0-4abb-b33e-632e9efa30fe"
      },
      "source": [
        "#### Freq distribution of words for each category\n",
        "token_cat = {}\n",
        "token_cat_fdist = {}\n",
        "for i in df['target'].unique():\n",
        "  print(target_to_name_map[i])\n",
        "  token_cat[target_to_name_map[i]] = [ y for x in df[df['target'] == i]['text'].values for y in word_tokenize(x) if y.lower() not in stop_words and y.isalpha() ]\n",
        "  token_cat_fdist[target_to_name_map[i]] = FreqDist(token_cat[target_to_name_map[i]]) "
      ],
      "execution_count": 13,
      "outputs": [
        {
          "output_type": "stream",
          "text": [
            "Technology\n",
            "Politics\n",
            "Entertainment\n",
            "Business\n"
          ],
          "name": "stdout"
        }
      ]
    },
    {
      "cell_type": "code",
      "metadata": {
        "id": "rqvPcs8y_ULh",
        "colab_type": "code",
        "colab": {}
      },
      "source": [
        "#### Dataframe to show for each category the top n words\n",
        "n = 100\n",
        "top_words_each_cat = pd.DataFrame({\"Technology\" : [i for i,v in token_cat_fdist[\"Technology\"].most_common(n)],\n",
        "                                      \"Politics\" : [i for i,v in token_cat_fdist[\"Politics\"].most_common(n)],\n",
        "                                      \"Entertainment\" : [i for i,v in token_cat_fdist[\"Entertainment\"].most_common(n)],\n",
        "                                      \"Business\" : [i for i,v in token_cat_fdist[\"Business\"].most_common(n)]},index=range(n))"
      ],
      "execution_count": 0,
      "outputs": []
    },
    {
      "cell_type": "code",
      "metadata": {
        "id": "BZ9kHmEc_UJp",
        "colab_type": "code",
        "outputId": "18459440-c55a-475b-ff7e-659dbc1663ed",
        "colab": {
          "base_uri": "https://localhost:8080/",
          "height": 424
        }
      },
      "source": [
        "top_words_each_cat"
      ],
      "execution_count": 15,
      "outputs": [
        {
          "output_type": "execute_result",
          "data": {
            "text/html": [
              "<div>\n",
              "<style scoped>\n",
              "    .dataframe tbody tr th:only-of-type {\n",
              "        vertical-align: middle;\n",
              "    }\n",
              "\n",
              "    .dataframe tbody tr th {\n",
              "        vertical-align: top;\n",
              "    }\n",
              "\n",
              "    .dataframe thead th {\n",
              "        text-align: right;\n",
              "    }\n",
              "</style>\n",
              "<table border=\"1\" class=\"dataframe\">\n",
              "  <thead>\n",
              "    <tr style=\"text-align: right;\">\n",
              "      <th></th>\n",
              "      <th>Technology</th>\n",
              "      <th>Politics</th>\n",
              "      <th>Entertainment</th>\n",
              "      <th>Business</th>\n",
              "    </tr>\n",
              "  </thead>\n",
              "  <tbody>\n",
              "    <tr>\n",
              "      <th>0</th>\n",
              "      <td>also</td>\n",
              "      <td>BJP</td>\n",
              "      <td>film</td>\n",
              "      <td>said</td>\n",
              "    </tr>\n",
              "    <tr>\n",
              "      <th>1</th>\n",
              "      <td>said</td>\n",
              "      <td>Congress</td>\n",
              "      <td>said</td>\n",
              "      <td>year</td>\n",
              "    </tr>\n",
              "    <tr>\n",
              "      <th>2</th>\n",
              "      <td>India</td>\n",
              "      <td>said</td>\n",
              "      <td>also</td>\n",
              "      <td>market</td>\n",
              "    </tr>\n",
              "    <tr>\n",
              "      <th>3</th>\n",
              "      <td>Apple</td>\n",
              "      <td>party</td>\n",
              "      <td>like</td>\n",
              "      <td>India</td>\n",
              "    </tr>\n",
              "    <tr>\n",
              "      <th>4</th>\n",
              "      <td>new</td>\n",
              "      <td>Modi</td>\n",
              "      <td>actor</td>\n",
              "      <td>US</td>\n",
              "    </tr>\n",
              "    <tr>\n",
              "      <th>...</th>\n",
              "      <td>...</td>\n",
              "      <td>...</td>\n",
              "      <td>...</td>\n",
              "      <td>...</td>\n",
              "    </tr>\n",
              "    <tr>\n",
              "      <th>95</th>\n",
              "      <td>media</td>\n",
              "      <td>since</td>\n",
              "      <td>every</td>\n",
              "      <td>deal</td>\n",
              "    </tr>\n",
              "    <tr>\n",
              "      <th>96</th>\n",
              "      <td>well</td>\n",
              "      <td>go</td>\n",
              "      <td>feel</td>\n",
              "      <td>time</td>\n",
              "    </tr>\n",
              "    <tr>\n",
              "      <th>97</th>\n",
              "      <td>digital</td>\n",
              "      <td>many</td>\n",
              "      <td>got</td>\n",
              "      <td>yield</td>\n",
              "    </tr>\n",
              "    <tr>\n",
              "      <th>98</th>\n",
              "      <td>many</td>\n",
              "      <td>come</td>\n",
              "      <td>Kalank</td>\n",
              "      <td>economy</td>\n",
              "    </tr>\n",
              "    <tr>\n",
              "      <th>99</th>\n",
              "      <td>billion</td>\n",
              "      <td>Karnataka</td>\n",
              "      <td>stars</td>\n",
              "      <td>investment</td>\n",
              "    </tr>\n",
              "  </tbody>\n",
              "</table>\n",
              "<p>100 rows × 4 columns</p>\n",
              "</div>"
            ],
            "text/plain": [
              "   Technology   Politics Entertainment    Business\n",
              "0        also        BJP          film        said\n",
              "1        said   Congress          said        year\n",
              "2       India       said          also      market\n",
              "3       Apple      party          like       India\n",
              "4         new       Modi         actor          US\n",
              "..        ...        ...           ...         ...\n",
              "95      media      since         every        deal\n",
              "96       well         go          feel        time\n",
              "97    digital       many           got       yield\n",
              "98       many       come        Kalank     economy\n",
              "99    billion  Karnataka         stars  investment\n",
              "\n",
              "[100 rows x 4 columns]"
            ]
          },
          "metadata": {
            "tags": []
          },
          "execution_count": 15
        }
      ]
    },
    {
      "cell_type": "code",
      "metadata": {
        "id": "NwFdicsw_UFQ",
        "colab_type": "code",
        "colab": {}
      },
      "source": [
        "#### Extract set of words that appear both of any of the two categories\n",
        "from itertools import combinations\n",
        "common_words = []\n",
        "for i in combinations(target_to_name_map.values(),2):\n",
        "  [ common_words.append(x) for x in set(top_words_each_cat[i[0]]).intersection(set(top_words_each_cat[i[1]])) ]\n",
        "\n",
        "common_words = set(list(common_words))"
      ],
      "execution_count": 0,
      "outputs": []
    },
    {
      "cell_type": "code",
      "metadata": {
        "id": "Yne8DudF_UCY",
        "colab_type": "code",
        "colab": {}
      },
      "source": [
        "#### Dataframe to show for each category the bottom n words\n",
        "n = 100\n",
        "least_words_each_cat = pd.DataFrame({\"Technology\" : [i for i,v in token_cat_fdist[\"Technology\"].most_common()[-n:]],\n",
        "                                      \"Politics\" : [i for i,v in token_cat_fdist[\"Politics\"].most_common()[-n:]],\n",
        "                                      \"Entertainment\" : [i for i,v in token_cat_fdist[\"Entertainment\"].most_common()[-n:]],\n",
        "                                      \"Business\" : [i for i,v in token_cat_fdist[\"Business\"].most_common()[-n:]]},index=range(n))"
      ],
      "execution_count": 0,
      "outputs": []
    },
    {
      "cell_type": "code",
      "metadata": {
        "id": "zrhitv74_UAP",
        "colab_type": "code",
        "colab": {
          "base_uri": "https://localhost:8080/",
          "height": 424
        },
        "outputId": "3a816a3d-ed5e-49f7-deb7-9d254e309b03"
      },
      "source": [
        "least_words_each_cat"
      ],
      "execution_count": 19,
      "outputs": [
        {
          "output_type": "execute_result",
          "data": {
            "text/html": [
              "<div>\n",
              "<style scoped>\n",
              "    .dataframe tbody tr th:only-of-type {\n",
              "        vertical-align: middle;\n",
              "    }\n",
              "\n",
              "    .dataframe tbody tr th {\n",
              "        vertical-align: top;\n",
              "    }\n",
              "\n",
              "    .dataframe thead th {\n",
              "        text-align: right;\n",
              "    }\n",
              "</style>\n",
              "<table border=\"1\" class=\"dataframe\">\n",
              "  <thead>\n",
              "    <tr style=\"text-align: right;\">\n",
              "      <th></th>\n",
              "      <th>Technology</th>\n",
              "      <th>Politics</th>\n",
              "      <th>Entertainment</th>\n",
              "      <th>Business</th>\n",
              "    </tr>\n",
              "  </thead>\n",
              "  <tbody>\n",
              "    <tr>\n",
              "      <th>0</th>\n",
              "      <td>Joyo</td>\n",
              "      <td>newbie</td>\n",
              "      <td>BawliTared</td>\n",
              "      <td>gallon</td>\n",
              "    </tr>\n",
              "    <tr>\n",
              "      <th>1</th>\n",
              "      <td>Amplug</td>\n",
              "      <td>collar</td>\n",
              "      <td>NaniKanchana</td>\n",
              "      <td>awry</td>\n",
              "    </tr>\n",
              "    <tr>\n",
              "      <th>2</th>\n",
              "      <td>reap</td>\n",
              "      <td>Peak</td>\n",
              "      <td>thumbs</td>\n",
              "      <td>channels</td>\n",
              "    </tr>\n",
              "    <tr>\n",
              "      <th>3</th>\n",
              "      <td>pentatonic</td>\n",
              "      <td>kathiri</td>\n",
              "      <td>upTrade</td>\n",
              "      <td>prominently</td>\n",
              "    </tr>\n",
              "    <tr>\n",
              "      <th>4</th>\n",
              "      <td>Silent</td>\n",
              "      <td>veyil</td>\n",
              "      <td>Comedy</td>\n",
              "      <td>components</td>\n",
              "    </tr>\n",
              "    <tr>\n",
              "      <th>...</th>\n",
              "      <td>...</td>\n",
              "      <td>...</td>\n",
              "      <td>...</td>\n",
              "      <td>...</td>\n",
              "    </tr>\n",
              "    <tr>\n",
              "      <th>95</th>\n",
              "      <td>Put</td>\n",
              "      <td>Dhangar</td>\n",
              "      <td>Moore</td>\n",
              "      <td>Nothing</td>\n",
              "    </tr>\n",
              "    <tr>\n",
              "      <th>96</th>\n",
              "      <td>Xeon</td>\n",
              "      <td>Fourth</td>\n",
              "      <td>Chrissy</td>\n",
              "      <td>WagonR</td>\n",
              "    </tr>\n",
              "    <tr>\n",
              "      <th>97</th>\n",
              "      <td>Conquerors</td>\n",
              "      <td>Republic</td>\n",
              "      <td>Metz</td>\n",
              "      <td>inertia</td>\n",
              "    </tr>\n",
              "    <tr>\n",
              "      <th>98</th>\n",
              "      <td>Total</td>\n",
              "      <td>floodgates</td>\n",
              "      <td>Sterling</td>\n",
              "      <td>unsustainably</td>\n",
              "    </tr>\n",
              "    <tr>\n",
              "      <th>99</th>\n",
              "      <td>Warhammer</td>\n",
              "      <td>Nagendra</td>\n",
              "      <td>Hartley</td>\n",
              "      <td>eaten</td>\n",
              "    </tr>\n",
              "  </tbody>\n",
              "</table>\n",
              "<p>100 rows × 4 columns</p>\n",
              "</div>"
            ],
            "text/plain": [
              "    Technology    Politics Entertainment       Business\n",
              "0         Joyo      newbie    BawliTared         gallon\n",
              "1       Amplug      collar  NaniKanchana           awry\n",
              "2         reap        Peak        thumbs       channels\n",
              "3   pentatonic     kathiri       upTrade    prominently\n",
              "4       Silent       veyil        Comedy     components\n",
              "..         ...         ...           ...            ...\n",
              "95         Put     Dhangar         Moore        Nothing\n",
              "96        Xeon      Fourth       Chrissy         WagonR\n",
              "97  Conquerors    Republic          Metz        inertia\n",
              "98       Total  floodgates      Sterling  unsustainably\n",
              "99   Warhammer    Nagendra       Hartley          eaten\n",
              "\n",
              "[100 rows x 4 columns]"
            ]
          },
          "metadata": {
            "tags": []
          },
          "execution_count": 19
        }
      ]
    },
    {
      "cell_type": "code",
      "metadata": {
        "id": "gfzK3tXh_T8G",
        "colab_type": "code",
        "colab": {}
      },
      "source": [
        ""
      ],
      "execution_count": 0,
      "outputs": []
    },
    {
      "cell_type": "code",
      "metadata": {
        "id": "nGAJV_rX_T5g",
        "colab_type": "code",
        "colab": {}
      },
      "source": [
        ""
      ],
      "execution_count": 0,
      "outputs": []
    },
    {
      "cell_type": "code",
      "metadata": {
        "id": "q3j-jKyf_T23",
        "colab_type": "code",
        "colab": {}
      },
      "source": [
        ""
      ],
      "execution_count": 0,
      "outputs": []
    },
    {
      "cell_type": "code",
      "metadata": {
        "id": "TUDUmn0h_T0p",
        "colab_type": "code",
        "colab": {}
      },
      "source": [
        ""
      ],
      "execution_count": 0,
      "outputs": []
    },
    {
      "cell_type": "code",
      "metadata": {
        "id": "zGKYCF0C_Tw7",
        "colab_type": "code",
        "colab": {}
      },
      "source": [
        ""
      ],
      "execution_count": 0,
      "outputs": []
    }
  ]
}